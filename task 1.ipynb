{
 "cells": [
  {
   "cell_type": "code",
   "execution_count": 1,
   "id": "0159758f",
   "metadata": {},
   "outputs": [
    {
     "name": "stdout",
     "output_type": "stream",
     "text": [
      "Output of the network: (0.8062022161362691, 0.8378513277308884)\n"
     ]
    }
   ],
   "source": [
    "def exp(x, terms=10):\n",
    "    result = 1\n",
    "    factorial = 1\n",
    "    power = 1\n",
    "    for i in range(1, terms):\n",
    "        power *= x\n",
    "        factorial *= i\n",
    "        result += power / factorial\n",
    "    return result\n",
    "\n",
    "def tanh(x):\n",
    "    e_pos = exp(x)\n",
    "    e_neg = exp(-x)\n",
    "    return (e_pos - e_neg) / (e_pos + e_neg)\n",
    "\n",
    "def forward_pass(x1, x2):\n",
    "    z1 = (0.15 * x1) + (0.20 * x2) + 0.5\n",
    "    z2 = (0.25 * x1) + (0.30 * x2) + 0.5\n",
    "\n",
    "    a1 = tanh(z1)\n",
    "    a2 = tanh(z2)\n",
    "\n",
    "    z3 = (0.40 * a1) + (0.45 * a2) + 0.7\n",
    "    z4 = (0.50 * a1) + (0.55 * a2) + 0.7\n",
    "\n",
    "    a3 = tanh(z3)\n",
    "    a4 = tanh(z4)\n",
    "\n",
    "    return a3, a4\n",
    "\n",
    "output = forward_pass(0.05, 0.10)\n",
    "print(\"Output of the network:\",output)"
   ]
  },
  {
   "cell_type": "code",
   "execution_count": null,
   "id": "99851f98",
   "metadata": {},
   "outputs": [],
   "source": []
  }
 ],
 "metadata": {
  "kernelspec": {
   "display_name": "Python 3 (ipykernel)",
   "language": "python",
   "name": "python3"
  },
  "language_info": {
   "codemirror_mode": {
    "name": "ipython",
    "version": 3
   },
   "file_extension": ".py",
   "mimetype": "text/x-python",
   "name": "python",
   "nbconvert_exporter": "python",
   "pygments_lexer": "ipython3",
   "version": "3.11.5"
  }
 },
 "nbformat": 4,
 "nbformat_minor": 5
}
